{
 "cells": [
  {
   "cell_type": "code",
   "execution_count": 1,
   "metadata": {
    "collapsed": true
   },
   "outputs": [],
   "source": [
    "import pandas as pd\n",
    "import pylab\n",
    "import numpy as np\n",
    "from sklearn.model_selection import KFold\n",
    "titanic  = pd.read_csv('C:\\\\Users\\\\l\\\\Desktop\\\\python document\\\\train.csv')\n",
    "target_data = pd.read_csv('C:\\\\Users\\\\l\\\\Desktop\\\\python document\\\\test.csv')\n",
    "\n",
    "titanic[\"Embarked\"]= titanic[\"Embarked\"].fillna('S')\n",
    "titanic[\"Age\"] = titanic[\"Age\"].fillna(titanic[\"Age\"].median())\n",
    "titanic.loc[titanic[\"Sex\"] == \"male\", \"Sex\"] = 0\n",
    "titanic.loc[titanic[\"Sex\"] == \"female\", \"Sex\"] = 1\n",
    "\n",
    "titanic[\"Embarked\"] = titanic[\"Embarked\"].fillna('S')\n",
    "titanic.loc[titanic[\"Embarked\"] == \"S\", \"Embarked\"] = 0\n",
    "titanic.loc[titanic[\"Embarked\"] == \"C\", \"Embarked\"] = 1\n",
    "titanic.loc[titanic[\"Embarked\"] == \"Q\", \"Embarked\"] = 2\n",
    "import numpy as np\n",
    "from sklearn.linear_model import LinearRegression\n",
    "from sklearn.model_selection import KFold\n",
    "alg = LinearRegression() \n",
    "\n",
    "predictors = [\"Pclass\",\"Sex\",\"Age\",\"SibSp\",\"Parch\",\"Fare\",\"Embarked\"]\n",
    "predictions = [] \n",
    "kf = KFold(n_splits=3) \n",
    "for train_index, test_index in kf.split(titanic):\n",
    "    train_predictors = (titanic[predictors].iloc[train_index,:])\n",
    "    train_target = titanic[\"Survived\"].iloc[train_index]\n",
    "    alg.fit(train_predictors,train_target)\n",
    "    test_predictions = alg.predict(titanic[predictors].iloc[test_index,:])\n",
    "    predictions.append(test_predictions)\n",
    "#print(predictions)\n",
    "predictions = np.concatenate(predictions,axis=0)"
   ]
  },
  {
   "cell_type": "code",
   "execution_count": 2,
   "metadata": {},
   "outputs": [
    {
     "name": "stdout",
     "output_type": "stream",
     "text": [
      "测试数据总数量 891\n",
      "正确的数量： 698\n",
      "准确率： 0.783389450056\n"
     ]
    }
   ],
   "source": [
    " \n",
    "predictions[predictions >0.5] = 1\n",
    "predictions[predictions <=0.5] = 0\n",
    "predictions.dtype = \"float64\"\n",
    "titanic[\"Survived\"] = titanic[\"Survived\"].astype(float)\n",
    "\n",
    "print(\"测试数据总数量\",len(predictions))\n",
    "#print(\"正确的数量：\",sum(predictions[predictions == titanic[\"Survived\"]]))\n",
    "print(\"正确的数量：\",sum(predictions == titanic[\"Survived\"]))\n",
    "accuracy = sum(predictions == titanic[\"Survived\"]) / len(predictions)\n",
    "print(\"准确率：\",accuracy)"
   ]
  },
  {
   "cell_type": "code",
   "execution_count": 5,
   "metadata": {},
   "outputs": [
    {
     "name": "stdout",
     "output_type": "stream",
     "text": [
      "[ 0.78451178  0.78787879  0.79124579]\n",
      "0.787878787879\n"
     ]
    }
   ],
   "source": [
    "from sklearn import cross_validation\n",
    "from sklearn.linear_model import LogisticRegression\n",
    "alg = LogisticRegression(random_state = 1)\n",
    "#使用逻辑回归做交叉验证\n",
    "score = cross_validation.cross_val_score(alg,titanic[predictors],titanic[\"Survived\"],cv=3)\n",
    "print(score)\n",
    "print(score.mean())\n",
    "#help(cross_validation)"
   ]
  },
  {
   "cell_type": "code",
   "execution_count": 4,
   "metadata": {},
   "outputs": [
    {
     "name": "stdout",
     "output_type": "stream",
     "text": [
      "0.79012345679\n",
      "0.780022446689\n",
      "0.787878787879\n",
      "0.799102132435\n",
      "0.79797979798\n",
      "0.812570145903\n",
      "0.81593714927\n",
      "0.811447811448\n",
      "0.818181818182\n",
      "0.810325476992\n",
      "0.81593714927\n",
      "0.810325476992\n",
      "0.812570145903\n",
      "0.810325476992\n",
      "0.811447811448\n",
      "0.804713804714\n",
      "0.808080808081\n",
      "0.809203142536\n",
      "0.809203142536\n",
      "0.819304152637\n",
      "0.819304152637\n",
      "0.818181818182\n",
      "0.819304152637\n",
      "0.821548821549\n",
      "0.821548821549\n",
      "0.822671156004\n",
      "0.82379349046\n",
      "0.82379349046\n",
      "0.82379349046\n",
      "0.818181818182\n",
      "0.817059483726\n",
      "0.814814814815\n",
      "0.820426487093\n",
      "0.814814814815\n",
      "0.819304152637\n",
      "0.82379349046\n",
      "0.826038159371\n",
      "0.820426487093\n",
      "0.820426487093\n",
      "0.819304152637\n",
      "0.820426487093\n",
      "0.820426487093\n",
      "0.819304152637\n",
      "0.819304152637\n",
      "0.81593714927\n",
      "0.819304152637\n",
      "0.81593714927\n",
      "0.817059483726\n",
      "0.817059483726\n",
      "0.81593714927\n",
      "0.813692480359\n",
      "0.818181818182\n",
      "0.821548821549\n",
      "0.818181818182\n",
      "0.81593714927\n",
      "0.818181818182\n",
      "0.818181818182\n",
      "0.817059483726\n",
      "0.820426487093\n",
      "0.818181818182\n",
      "0.819304152637\n",
      "0.819304152637\n",
      "0.821548821549\n",
      "0.819304152637\n",
      "0.818181818182\n",
      "0.813692480359\n",
      "0.818181818182\n",
      "0.819304152637\n",
      "0.818181818182\n",
      "0.819304152637\n",
      "0.820426487093\n",
      "0.819304152637\n",
      "0.818181818182\n",
      "0.817059483726\n",
      "0.818181818182\n",
      "0.819304152637\n",
      "0.820426487093\n",
      "0.818181818182\n",
      "0.818181818182\n",
      "0.819304152637\n",
      "0.818181818182\n",
      "0.817059483726\n",
      "0.817059483726\n",
      "0.813692480359\n",
      "0.814814814815\n",
      "0.817059483726\n",
      "0.817059483726\n",
      "0.813692480359\n",
      "0.817059483726\n",
      "0.817059483726\n",
      "0.818181818182\n",
      "0.814814814815\n",
      "0.817059483726\n",
      "0.81593714927\n",
      "0.813692480359\n",
      "0.814814814815\n",
      "0.814814814815\n",
      "0.813692480359\n",
      "0.812570145903\n"
     ]
    },
    {
     "ename": "AttributeError",
     "evalue": "'list' object has no attribute 'max'",
     "output_type": "error",
     "traceback": [
      "\u001b[1;31m---------------------------------------------------------------------------\u001b[0m",
      "\u001b[1;31mAttributeError\u001b[0m                            Traceback (most recent call last)",
      "\u001b[1;32m<ipython-input-4-83428de1aaf5>\u001b[0m in \u001b[0;36m<module>\u001b[1;34m()\u001b[0m\n\u001b[0;32m     11\u001b[0m     \u001b[0mn_estimators\u001b[0m\u001b[1;33m.\u001b[0m\u001b[0mappend\u001b[0m\u001b[1;33m(\u001b[0m\u001b[0mscores2\u001b[0m\u001b[1;33m.\u001b[0m\u001b[0mmean\u001b[0m\u001b[1;33m(\u001b[0m\u001b[1;33m)\u001b[0m\u001b[1;33m)\u001b[0m\u001b[1;33m\u001b[0m\u001b[0m\n\u001b[0;32m     12\u001b[0m     \u001b[0mprint\u001b[0m\u001b[1;33m(\u001b[0m\u001b[0mscores2\u001b[0m\u001b[1;33m.\u001b[0m\u001b[0mmean\u001b[0m\u001b[1;33m(\u001b[0m\u001b[1;33m)\u001b[0m\u001b[1;33m)\u001b[0m\u001b[1;33m\u001b[0m\u001b[0m\n\u001b[1;32m---> 13\u001b[1;33m \u001b[0mj\u001b[0m \u001b[1;33m=\u001b[0m \u001b[0mn_estimators\u001b[0m\u001b[1;33m.\u001b[0m\u001b[0mmax\u001b[0m\u001b[1;33m(\u001b[0m\u001b[1;33m)\u001b[0m\u001b[1;33m\u001b[0m\u001b[0m\n\u001b[0m\u001b[0;32m     14\u001b[0m \u001b[0mprint\u001b[0m\u001b[1;33m(\u001b[0m\u001b[0mn_estimators\u001b[0m\u001b[1;33m)\u001b[0m\u001b[1;33m\u001b[0m\u001b[0m\n",
      "\u001b[1;31mAttributeError\u001b[0m: 'list' object has no attribute 'max'"
     ]
    }
   ],
   "source": [
    "from sklearn.ensemble import RandomForestClassifier\n",
    "alg1 = RandomForestClassifier(random_state=1, n_estimators=10, min_samples_split=4, min_samples_leaf=1)\n",
    "kf = cross_validation.KFold(titanic.shape[0], 3, random_state=1)\n",
    "scores1 = cross_validation.cross_val_score(alg1, titanic[predictors], titanic[\"Survived\"], cv=kf)\n",
    "print(scores1.mean())\n",
    "n_estimators = [] \n",
    "for i in range(2,100):\n",
    "    alg2 = RandomForestClassifier(random_state=1, n_estimators=i, min_samples_split=4, min_samples_leaf=2)\n",
    "    kf = cross_validation.KFold(titanic.shape[0], 3, random_state=1)\n",
    "    scores2 = cross_validation.cross_val_score(alg2, titanic[predictors], titanic[\"Survived\"], cv=kf)\n",
    "    n_estimators.append(scores2.mean())\n",
    "    print(scores2.mean())\n",
    "j = n_estimators.max()\n",
    "print(n_estimators)"
   ]
  },
  {
   "cell_type": "code",
   "execution_count": null,
   "metadata": {
    "collapsed": true
   },
   "outputs": [],
   "source": []
  }
 ],
 "metadata": {
  "kernelspec": {
   "display_name": "Python 3",
   "language": "python",
   "name": "python3"
  },
  "language_info": {
   "codemirror_mode": {
    "name": "ipython",
    "version": 3
   },
   "file_extension": ".py",
   "mimetype": "text/x-python",
   "name": "python",
   "nbconvert_exporter": "python",
   "pygments_lexer": "ipython3",
   "version": "3.6.3"
  }
 },
 "nbformat": 4,
 "nbformat_minor": 2
}
